{
 "cells": [
  {
   "cell_type": "code",
   "execution_count": 1,
   "metadata": {
    "scrolled": true
   },
   "outputs": [
    {
     "name": "stdout",
     "output_type": "stream",
     "text": [
      "['rick', 'morty', 'summer', 'jerry', 'beth']\n"
     ]
    }
   ],
   "source": [
    "'''\n",
    "练习：提取名字\n",
    "使用列表推导式创建新的列表 first_names，其中仅包含 names 中的名字（小写形式）。\n",
    "'''\n",
    "names = [\"Rick Sanchez\", \"Morty Smith\", \"Summer Smith\", \"Jerry Smith\", \"Beth Smith\"]\n",
    "\n",
    "temp = [n.split(\" \") for n in names]\n",
    "first_names = [n[0].lower() for n in temp]\n",
    "\n",
    "#标准答案：first_names = [name.split()[0].lower() for name in names]\n",
    "#不需要写个temp的\n",
    "\n",
    "print(first_names)"
   ]
  },
  {
   "cell_type": "code",
   "execution_count": 2,
   "metadata": {},
   "outputs": [
    {
     "name": "stdout",
     "output_type": "stream",
     "text": [
      "['Rick Sanchez', 'Summer Smith', 'Beth Smith']\n"
     ]
    }
   ],
   "source": [
    "'''\n",
    "练习：按得分过滤姓名\n",
    "使用列表推导式创建一个 passed 的姓名列表，其中仅包含得分至少为 65 分的名字。\n",
    "'''\n",
    "scores = {\n",
    "             \"Rick Sanchez\": 70,\n",
    "             \"Morty Smith\": 35,\n",
    "             \"Summer Smith\": 82,\n",
    "             \"Jerry Smith\": 23,\n",
    "             \"Beth Smith\": 98\n",
    "          }\n",
    "\n",
    "passed = [i for i in scores.keys() if scores[i] >= 65]  #这个地方好像不合适用dict()所以用dict.keys()\n",
    "#标准答案：passed = [name for name, score in scores.items() if score >= 65]\n",
    "\n",
    "print(passed)"
   ]
  },
  {
   "cell_type": "code",
   "execution_count": null,
   "metadata": {},
   "outputs": [],
   "source": []
  }
 ],
 "metadata": {
  "kernelspec": {
   "display_name": "Python 3",
   "language": "python",
   "name": "python3"
  },
  "language_info": {
   "codemirror_mode": {
    "name": "ipython",
    "version": 3
   },
   "file_extension": ".py",
   "mimetype": "text/x-python",
   "name": "python",
   "nbconvert_exporter": "python",
   "pygments_lexer": "ipython3",
   "version": "3.7.1"
  }
 },
 "nbformat": 4,
 "nbformat_minor": 2
}
