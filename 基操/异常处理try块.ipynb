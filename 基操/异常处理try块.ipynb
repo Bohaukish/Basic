{
 "cells": [
  {
   "cell_type": "code",
   "execution_count": null,
   "metadata": {},
   "outputs": [],
   "source": [
    "'''\n",
    "可以使用四个子句：\n",
    "-- try：这是 try 语句中的唯一必需子句。该块中的代码是 Python 在 try 语句中首先运行的代码\n",
    "-- except：如果 Python 在运行 try 块时遇到异常，它将跳到处理该异常的 except 块\n",
    "-- else：如果 Python 在运行 try 块时没有遇到异常，它将在运行 try 块后运行该块中的代码\n",
    "-- finally：在 Python 离开此 try 语句之前，在任何情形下它都将运行此 finally 块中的代码，\n",
    "即使要结束程序到错误，在停止程序之前，依然会执行此finally 块。\n",
    "'''"
   ]
  },
  {
   "cell_type": "code",
   "execution_count": null,
   "metadata": {},
   "outputs": [
    {
     "name": "stdout",
     "output_type": "stream",
     "text": [
      "输入一个数字: ajis\n",
      "not a valid number\n",
      "不管怎样都运行\n"
     ]
    }
   ],
   "source": [
    "#一个最基本的例子\n",
    "while True:\n",
    "    try:\n",
    "        x = int(input(\"输入一个数字: \"))\n",
    "        break\n",
    "    except ValueError:\n",
    "        print(\"not a valid number\")\n",
    "    finally:\n",
    "        print(\"不管怎样都运行\")"
   ]
  },
  {
   "cell_type": "code",
   "execution_count": null,
   "metadata": {},
   "outputs": [],
   "source": [
    "'''\n",
    "练习：处理除以零的情形\n",
    "如果在函数的第一行遇到该异常，应该输出警告消息并返回空列表。\n",
    "否则，应该运行函数的剩余代码。\n",
    "最后，该函数应该始终输出返回了多少组。\n",
    "修改：\n",
    "def create_groups(items, num_groups):\n",
    "    size = len(items) // num_groups\n",
    "\n",
    "    groups = []\n",
    "    for i in range(0, len(items), size):\n",
    "        groups.append(items[i:i + size])\n",
    "\n",
    "    print(\"{} groups returned.\".format(num_groups))\n",
    "    return groups\n",
    "\n",
    "print(\"Creating 6 groups...\")\n",
    "for group in create_groups(range(32), 6):\n",
    "    print(list(group))\n",
    "\n",
    "print(\"\\nCreating 0 groups...\")\n",
    "for group in create_groups(range(32), 0):\n",
    "    print(list(group))\n",
    "'''"
   ]
  },
  {
   "cell_type": "code",
   "execution_count": 1,
   "metadata": {},
   "outputs": [
    {
     "name": "stdout",
     "output_type": "stream",
     "text": [
      "Creating 6 groups...\n",
      "6 groups returned.\n",
      "[0, 1, 2, 3, 4]\n",
      "[5, 6, 7, 8, 9]\n",
      "[10, 11, 12, 13, 14]\n",
      "[15, 16, 17, 18, 19]\n",
      "[20, 21, 22, 23, 24]\n",
      "[25, 26, 27, 28, 29]\n",
      "[30, 31]\n",
      "\n",
      "Creating 0 groups...\n",
      "WARNING: Returning empty list. Please use a nonzero number. 0 groups returned.\n",
      "0 groups returned.\n"
     ]
    }
   ],
   "source": [
    "#别忘了在脚本里面加后缀py\n",
    "def create_groups(items, num_groups):\n",
    "    try:\n",
    "        size = len(items) // num_groups\n",
    "    except ZeroDivisionError:\n",
    "        print(\"WARNING: Returning empty list. Please use a nonzero number. 0 groups returned.\")\n",
    "        return []\n",
    "    else:\n",
    "        groups = []\n",
    "        for i in range(0, len(items), size):\n",
    "            groups.append(items[i:i + size])\n",
    "        return groups\n",
    "    finally:\n",
    "        print(\"{} groups returned.\".format(num_groups))\n",
    "\n",
    "print(\"Creating 6 groups...\")\n",
    "for group in create_groups(range(32), 6):\n",
    "    print(list(group))\n",
    "\n",
    "print(\"\\nCreating 0 groups...\")\n",
    "for group in create_groups(range(32), 0):\n",
    "    print(list(group))"
   ]
  },
  {
   "cell_type": "code",
   "execution_count": null,
   "metadata": {},
   "outputs": [],
   "source": [
    "#如果需要打印出系统的错误提示：\n",
    "'''\n",
    "try:\n",
    "    # some code\n",
    "except Exception as e:\n",
    "   # some code\n",
    "   print(\"Exception occurred: {}\".format(e))\n",
    "'''"
   ]
  },
  {
   "cell_type": "code",
   "execution_count": 4,
   "metadata": {},
   "outputs": [
    {
     "name": "stdout",
     "output_type": "stream",
     "text": [
      "Exception occurred: division by zero\n"
     ]
    }
   ],
   "source": [
    "try:\n",
    "    n = 3/0\n",
    "except Exception as e:\n",
    "   # some code\n",
    "   print(\"Exception occurred: {}\".format(e))"
   ]
  }
 ],
 "metadata": {
  "kernelspec": {
   "display_name": "Python 3",
   "language": "python",
   "name": "python3"
  },
  "language_info": {
   "codemirror_mode": {
    "name": "ipython",
    "version": 3
   },
   "file_extension": ".py",
   "mimetype": "text/x-python",
   "name": "python",
   "nbconvert_exporter": "python",
   "pygments_lexer": "ipython3",
   "version": "3.7.1"
  }
 },
 "nbformat": 4,
 "nbformat_minor": 2
}
