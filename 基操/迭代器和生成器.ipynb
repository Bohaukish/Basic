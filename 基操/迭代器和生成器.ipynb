{
 "cells": [
  {
   "cell_type": "code",
   "execution_count": 17,
   "metadata": {
    "scrolled": false
   },
   "outputs": [
    {
     "name": "stdout",
     "output_type": "stream",
     "text": [
      "[1, 2, 3, 4, 5, 6, 7, 8, 9, 10]\n",
      "[1, 2, 3, 4, 5, 6, 7, 8, 9, 10]\n",
      "[1, 2, 3, 4, 5, 6, 7, 8, 9, 10]\n"
     ]
    }
   ],
   "source": [
    "#把列表 [0，1，2，3，4，5，6，7，8，9]，把列表里面的每个值加1\n",
    "#第一种：列表解析（最佳）\n",
    "info = [0, 1, 2, 3, 4, 5, 6, 7, 8, 9]\n",
    "\n",
    "l1 = [i +1 for i in info]\n",
    "print(l1)\n",
    "\n",
    "#第二种：enumerate()\n",
    "for index, i in enumerate(info):  #可以同时列出数据和数据下标，这是enumerate()的特点\n",
    "    info[index] = i + 1 \n",
    "\n",
    "print(info)\n",
    "\n",
    "#第三种：匿名函数\n",
    "info = [0, 1, 2, 3, 4, 5, 6, 7, 8, 9]\n",
    "\n",
    "a = list(map(lambda i: i+1, info))  #有了map就不需要写鬼循环了\n",
    "print(a)\n"
   ]
  },
  {
   "cell_type": "code",
   "execution_count": 18,
   "metadata": {},
   "outputs": [
    {
     "name": "stdout",
     "output_type": "stream",
     "text": [
      "[0, 1, 4, 9, 16, 25, 36, 49, 64, 81]\n",
      "<generator object <genexpr> at 0x1114d2cf0>\n"
     ]
    }
   ],
   "source": [
    "'''\n",
    "生成器：\n",
    "特点：延迟操作。也就是在需要的时候才产生结果，不是立即产生结果。\n",
    "优点：用多少，取多少，不占内存，迭代器的一种\n",
    "缺点：只能遍历一次，产生的数据不能回溯\n",
    "\n",
    "生成器是一个特殊的程序，可以被用作控制循环的迭代行为，\n",
    "python中生成器是迭代器的一种，使用yield返回值函数，每次调用yield会暂停，\n",
    "\n",
    "生成器（generator）能够迭代的关键是他有next()方法，\n",
    "工作原理就是通过重复调用next()方法，直到捕获一个异常\n",
    "'''\n",
    "#把一个列表生成式的[]中括号改为（）小括号，就创建一个generator\n",
    "#列表生成式\n",
    "lis = [x*x for x in range(10)]\n",
    "print(lis)\n",
    "#生成器\n",
    "generator_ex = (x*x for x in range(10))\n",
    "print(generator_ex)"
   ]
  },
  {
   "cell_type": "code",
   "execution_count": 21,
   "metadata": {},
   "outputs": [
    {
     "data": {
      "text/plain": [
       "64"
      ]
     },
     "execution_count": 21,
     "metadata": {},
     "output_type": "execute_result"
    }
   ],
   "source": [
    "#如果要一个个打印出来，可以通过next（）函数获得generator的下一个返回值：\n",
    "#每次刷新都会增加这个值，因为是单向向前的，这里会显示64是因为我按了好几次运行\n",
    "next(generator_ex)\n",
    "next(generator_ex)\n",
    "next(generator_ex)\n",
    "next(generator_ex)"
   ]
  },
  {
   "cell_type": "code",
   "execution_count": 25,
   "metadata": {
    "scrolled": true
   },
   "outputs": [
    {
     "name": "stdout",
     "output_type": "stream",
     "text": [
      "0\n",
      "1\n",
      "4\n",
      "9\n",
      "16\n",
      "25\n",
      "36\n",
      "49\n",
      "64\n",
      "81\n"
     ]
    }
   ],
   "source": [
    "'''\n",
    "generator保存的是算法，每次调用next(generaotr_ex)就计算出他的下一个元素的值，直到计算出最后一个元素，\n",
    "没有更多的元素时，抛出StopIteration的错误，而且上面这样不断调用是一个不好的习惯，\n",
    "正确的方法是使用for循环，因为generator也是可迭代对象\n",
    "'''\n",
    "generator_ex = (x*x for x in range(10))\n",
    "for i in generator_ex:\n",
    "    print(i)"
   ]
  },
  {
   "cell_type": "code",
   "execution_count": 29,
   "metadata": {},
   "outputs": [
    {
     "name": "stdout",
     "output_type": "stream",
     "text": [
      "<generator object fib at 0x1114d2c78>\n",
      "1\n",
      "1\n",
      "2\n",
      "3\n",
      "5\n",
      "8\n",
      "13\n",
      "21\n",
      "34\n",
      "55\n"
     ]
    }
   ],
   "source": [
    "'''\n",
    "普通函数：顺序执行的，遇到return语句或者最后一行函数语句就返回\n",
    "变成生成器的函数：在每次调用next()的时候执行，遇到yield语句返回，\n",
    "再次被next（）调用时候从上次的返回yield语句处急需执行，\n",
    "也就是用多少，取多少，不占内存。\n",
    "'''\n",
    "def fib(max):\n",
    "    n,a,b =0,0,1\n",
    "    while n < max:\n",
    "        yield b   #在这里已经返回了，剩下的在调用的时候再接着从这里算起，就是这么懒\n",
    "        a,b =b,a+b\n",
    "        n = n+1\n",
    "    return 'done'\n",
    " \n",
    "a = fib(10)\n",
    "print(fib(10))\n",
    "print(next(a))  #看吧，就算我要求的是fib(10)，我写完这个语句的时候返回的还是第一个值\n",
    "\n",
    "#打出\n",
    "for i in a:  #接着上一个语句的1接着来六个\n",
    "    print(i)   "
   ]
  },
  {
   "cell_type": "code",
   "execution_count": 31,
   "metadata": {},
   "outputs": [
    {
     "name": "stdout",
     "output_type": "stream",
     "text": [
      "generator:  1\n",
      "generator:  1\n",
      "generator:  2\n",
      "generator:  3\n",
      "generator:  5\n",
      "generator:  8\n",
      "generator:  13\n",
      "生成器返回值： done\n"
     ]
    }
   ],
   "source": [
    "'''\n",
    "如果拿不到返回值，那么就会报错，所以为了不让报错，就要进行异常处理，\n",
    "拿到返回值，如果想要拿到返回值，必须捕获StopIteration错误，\n",
    "返回值包含在StopIteration的value中：\n",
    "'''\n",
    "b = fib(7)\n",
    "while True:\n",
    "    try:\n",
    "        x = next(b)\n",
    "        print('generator: ',x)\n",
    "    except StopIteration as e:      #工作原理就是通过重复调用next()方法，直到捕获一个异常\n",
    "        print(\"生成器返回值：\",e.value)\n",
    "        break"
   ]
  },
  {
   "cell_type": "code",
   "execution_count": 32,
   "metadata": {},
   "outputs": [
    {
     "name": "stdout",
     "output_type": "stream",
     "text": [
      "[0, 1, 2, 3]\n",
      "[4, 5, 6, 7]\n",
      "[8, 9, 10, 11]\n",
      "[12, 13, 14, 15]\n",
      "[16, 17, 18, 19]\n",
      "[20, 21, 22, 23]\n",
      "[24]\n"
     ]
    }
   ],
   "source": [
    "'''\n",
    "练习：Chunker\n",
    "如果可迭代对象太大，无法完整地存储在内存中（例如处理大型文件时），每次能够使用一部分很有用。\n",
    "\n",
    "实现一个生成器函数 chunker，接受一个可迭代对象并每次生成指定大小的部分数据。\n",
    "\n",
    "如下所示地调用该函数：\n",
    "\n",
    "for chunk in chunker(range(25), 4):\n",
    "    print(list(chunk))\n",
    "'''\n",
    "def chunker(iterable, size):\n",
    "    \"\"\"Yield successive chunks from iterable of length size.\"\"\"\n",
    "    for i in range(0, len(iterable), size):  #明显用步长和切片啊\n",
    "        yield iterable[i:i + size]\n",
    "\n",
    "for chunk in chunker(range(25), 4):\n",
    "    print(list(chunk))"
   ]
  },
  {
   "cell_type": "code",
   "execution_count": null,
   "metadata": {},
   "outputs": [],
   "source": []
  }
 ],
 "metadata": {
  "kernelspec": {
   "display_name": "Python 3",
   "language": "python",
   "name": "python3"
  },
  "language_info": {
   "codemirror_mode": {
    "name": "ipython",
    "version": 3
   },
   "file_extension": ".py",
   "mimetype": "text/x-python",
   "name": "python",
   "nbconvert_exporter": "python",
   "pygments_lexer": "ipython3",
   "version": "3.7.1"
  }
 },
 "nbformat": 4,
 "nbformat_minor": 2
}
