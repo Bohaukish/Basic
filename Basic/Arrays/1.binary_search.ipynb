{
  "nbformat": 4,
  "nbformat_minor": 0,
  "metadata": {
    "colab": {
      "name": "binary search.ipynb",
      "provenance": [],
      "collapsed_sections": []
    },
    "kernelspec": {
      "name": "python3",
      "display_name": "Python 3"
    }
  },
  "cells": [
    {
      "cell_type": "markdown",
      "metadata": {
        "id": "xn66wsa9FiO9",
        "colab_type": "text"
      },
      "source": [
        "Given a **sorted** array of integers, return the index of the given key. Return -1 if the key is not found.\n",
        "\n",
        "1 Recursive: \n",
        " - Time: O(log n)\n",
        " - Memory: O(log n)"
      ]
    },
    {
      "cell_type": "code",
      "metadata": {
        "id": "IvTo_e7zFuuQ",
        "colab_type": "code",
        "colab": {}
      },
      "source": [
        "def binary_search_rec(a, key, low, high):\n",
        "  if low > high:\n",
        "    return -1\n",
        "\n",
        "  mid = low + ((high - low) // 2)\n",
        "\n",
        "  if a[mid] == key:\n",
        "    return mid\n",
        "  elif key < a[mid]:\n",
        "    return binary_search_rec(a, key, low, mid - 1)\n",
        "  else:\n",
        "    return binary_search_rec(a, key, mid + 1, high)"
      ],
      "execution_count": 1,
      "outputs": []
    },
    {
      "cell_type": "code",
      "metadata": {
        "id": "e9d28TwpGzWX",
        "colab_type": "code",
        "colab": {
          "base_uri": "https://localhost:8080/",
          "height": 34
        },
        "outputId": "d9e87364-5fc3-4cde-f8bb-608e767e33b0"
      },
      "source": [
        "arr = [1, 10, 20, 47, 59, 63, 75, 88, 99, 107, 120, 133, 155, 162, 176, 188, 199, 200, 210, 222]\n",
        "binary_search_rec(arr, 88, arr.index(min(arr)), arr.index(max(arr)))"
      ],
      "execution_count": 2,
      "outputs": [
        {
          "output_type": "execute_result",
          "data": {
            "text/plain": [
              "7"
            ]
          },
          "metadata": {
            "tags": []
          },
          "execution_count": 2
        }
      ]
    },
    {
      "cell_type": "markdown",
      "metadata": {
        "id": "jTWI562GGz09",
        "colab_type": "text"
      },
      "source": [
        "2 Iterative: \n",
        " - Time: O(log n)\n",
        " - Memory: O(1)"
      ]
    },
    {
      "cell_type": "code",
      "metadata": {
        "id": "9fj3U6Z_KtVX",
        "colab_type": "code",
        "colab": {
          "base_uri": "https://localhost:8080/",
          "height": 34
        },
        "outputId": "6b2aa6ea-4f76-4ff5-ae4c-331e55865ff8"
      },
      "source": [
        "def binary_search(a, key):  \n",
        "  low = 0\n",
        "  high = len(a) - 1\n",
        "  \n",
        "  while low <= high:\n",
        "    mid = low + ((high - low) // 2)\n",
        "    \n",
        "    if a[mid] == key:\n",
        "      return mid\n",
        "    if key < a[mid]:\n",
        "      high = mid - 1\n",
        "    else:\n",
        "      low = mid + 1\n",
        "\n",
        "  return -1\n",
        "\n",
        "binary_search(arr, 88)"
      ],
      "execution_count": 3,
      "outputs": [
        {
          "output_type": "execute_result",
          "data": {
            "text/plain": [
              "7"
            ]
          },
          "metadata": {
            "tags": []
          },
          "execution_count": 3
        }
      ]
    }
  ]
}