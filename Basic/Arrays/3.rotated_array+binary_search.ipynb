{
  "nbformat": 4,
  "nbformat_minor": 0,
  "metadata": {
    "colab": {
      "name": "3.rotated array+binary search.ipynb",
      "provenance": [],
      "collapsed_sections": []
    },
    "kernelspec": {
      "name": "python3",
      "display_name": "Python 3"
    }
  },
  "cells": [
    {
      "cell_type": "markdown",
      "metadata": {
        "id": "agmEow0k5Udv",
        "colab_type": "text"
      },
      "source": [
        "Search for a given number in a **sorted array**, with **unique** elements, that has been rotated by some arbitrary number. \n",
        "Return -1 if the number does not exist.\n",
        "\n",
        "Assume that the array does not contain duplicates.\n",
        "\n",
        "1 2 3 4 5 6 7\n",
        "\n",
        "(after rotated 3 times:\n",
        "\n",
        "5 6 7 1 2 3 4"
      ]
    },
    {
      "cell_type": "code",
      "metadata": {
        "id": "Uu6rLGfG5cvB",
        "colab_type": "code",
        "colab": {}
      },
      "source": [
        "def binary_search_rotated(arr, key):\n",
        "  start = 0\n",
        "  end = len(arr) - 1\n",
        "\n",
        "  if start > end:\n",
        "    return -1\n",
        "    \n",
        "  while start <= end:\n",
        "    mid = start + (end - start) // 2\n",
        "\n",
        "    if arr[mid] == key:\n",
        "      return mid\n",
        "\n",
        "    # Only 2 special cases:\n",
        "    # 7 1 2 3(mid) 4(key) 5 6\n",
        "    elif (arr[mid] <= arr[end] and key >= arr[mid] and key <= arr[end]):\n",
        "      start = mid + 1\n",
        "\n",
        "    # 3 4(key) 5 6(mid) 7 1 2\n",
        "    if arr[start] <= arr[mid] and key <= arr[mid] and key >= arr[start]:\n",
        "      end = mid - 1\n",
        "\n",
        "    # others are the same as normal cases\n",
        "    elif arr[end] <= arr[mid]:\n",
        "      start = mid + 1  \n",
        "\n",
        "    elif arr[start] >= arr[mid]:\n",
        "      end = mid - 1\n",
        "    \n",
        "    else:\n",
        "      return -1\n",
        "    \n",
        "  return -1"
      ],
      "execution_count": 1,
      "outputs": []
    },
    {
      "cell_type": "code",
      "metadata": {
        "id": "t9Zlvjee6Cj7",
        "colab_type": "code",
        "colab": {
          "base_uri": "https://localhost:8080/",
          "height": 52
        },
        "outputId": "a83b6c43-a771-401b-afe3-0cc2a17d33f4"
      },
      "source": [
        "v1 = [6, 7, 1, 2, 3, 4, 5]\n",
        "print(\"Key(3) found at: \" + str(binary_search_rotated(v1, 3)))\n",
        "print(\"Key(6) found at: \" + str(binary_search_rotated(v1, 6))) "
      ],
      "execution_count": 2,
      "outputs": [
        {
          "output_type": "stream",
          "text": [
            "Key(3) found at: -1\n",
            "Key(6) found at: 0\n"
          ],
          "name": "stdout"
        }
      ]
    }
  ]
}