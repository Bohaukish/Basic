{
  "nbformat": 4,
  "nbformat_minor": 0,
  "metadata": {
    "colab": {
      "name": "11.Sort an Array Using Quicksort Algorithm.ipynb",
      "provenance": [],
      "collapsed_sections": []
    },
    "kernelspec": {
      "name": "python3",
      "display_name": "Python 3"
    }
  },
  "cells": [
    {
      "cell_type": "markdown",
      "metadata": {
        "id": "gChATC_SuoLp",
        "colab_type": "text"
      },
      "source": [
        "Given an integer array, sort it in ascending order using quicksort.\n",
        "\n",
        "- time: O(nlogn)\n",
        "- memory: O(logn)"
      ]
    },
    {
      "cell_type": "markdown",
      "metadata": {
        "id": "H-M-0DTHoPZY",
        "colab_type": "text"
      },
      "source": [
        "https://blog.csdn.net/gaohuaid/article/details/9128051\n",
        "\n",
        "https://www.cnblogs.com/littlepage/p/11662266.html#2hoare%E5%88%92%E5%88%86\n",
        "\n",
        "\n",
        "快速排序的思想，是找出一个中轴（pivot），之后进行左右递归进行排序：\n",
        "```\n",
        "void quick_sort(int *arr,int left,int right){\n",
        "    if(left>right) return;\n",
        "    int pivot=getPivot();\n",
        "    quick_sort(arr,left,pivot-1);\n",
        "    quick_sort(arr,pivot+1,right);\n",
        "}\n",
        "```\n",
        "\n",
        "第一个元素作为参照数 + 一头一尾俩指针\n",
        "\n",
        "1. 第一个值为基准值。起初i指向第一个元素，j指向最后一个元素之后的位置。\n",
        "\n",
        "2. 分别从两端遍历数组，直到i所指向的值比基准值大，以及j所指向的值比基准值小时，分别停止遍历，然后交换i，j所指向的值。\n",
        "\n",
        "3. 重复步骤2，直到i >= j，然后交换p和j所指向的值，此时序列别分隔成两部分，基准值右边的值都比基准值大，而左边的元素都比基准值小。\n",
        "\n",
        "4. 分别对左右两部分重复1-4步骤，即可完成排序。\n",
        "\n",
        "快排基于二分。\n"
      ]
    },
    {
      "cell_type": "code",
      "metadata": {
        "id": "YsFZ-KgpvKCN",
        "colab_type": "code",
        "colab": {}
      },
      "source": [
        "# Below partition is using Hoare's algorithm.\n",
        "def partition(arr, low, high):\n",
        "\n",
        "  # Select a pivot element from the array to divide the array into two parts based on the pivot. \n",
        "  # Here we pick the first element as the pivot \n",
        "  pivot_value = arr[low]\n",
        "  i = low\n",
        "  j = high\n",
        "\n",
        "  while i < j:\n",
        "    # larger values end up at the right side of the pivot\n",
        "    while i <= high and arr[i] <= pivot_value:\n",
        "      i += 1\n",
        "    # smaller values end up at the left side\n",
        "    while arr[j] > pivot_value:\n",
        "      j -= 1\n",
        "    if i < j:\n",
        "      # swap arr[i], arr[j]\n",
        "      arr[i], arr[j] = arr[j], arr[i]\n",
        "\n",
        "  arr[low] = arr[j]\n",
        "  arr[j] = pivot_value\n",
        "\n",
        "  # return the pivot index\n",
        "  return j\n",
        "\n",
        "def quick_sort_rec(a, low, high):\n",
        "  if high > low:\n",
        "    pivot_index = partition(a, low, high)\n",
        "    # 在j和pivot互换之后，序列被原先的第一个pivot分成了两个部分，现在分别对左右两部分重复1-4步骤即可。\n",
        "    quick_sort_rec(a, low, pivot_index - 1)\n",
        "    quick_sort_rec(a, pivot_index + 1, high)\n",
        "\n",
        "def quick_sort(a):\n",
        "  quick_sort_rec(a, 0, len(a) - 1)\n",
        "  "
      ],
      "execution_count": 1,
      "outputs": []
    },
    {
      "cell_type": "code",
      "metadata": {
        "id": "RpjP3foBjj2-",
        "colab_type": "code",
        "colab": {
          "base_uri": "https://localhost:8080/",
          "height": 86
        },
        "outputId": "937cd5ae-ed08-4758-b3c6-8d0568e4bde7"
      },
      "source": [
        "a = [55, 23, 26, 2, 18, 78, 23, 8, 2, 3]\n",
        "\n",
        "print(\"Before Sorting\")\n",
        "print(a)\n",
        "\n",
        "quick_sort(a)\n",
        "\n",
        "print(\"After Sorting\")\n",
        "print(a)"
      ],
      "execution_count": 2,
      "outputs": [
        {
          "output_type": "stream",
          "text": [
            "Before Sorting\n",
            "[55, 23, 26, 2, 18, 78, 23, 8, 2, 3]\n",
            "After Sorting\n",
            "[2, 2, 3, 8, 18, 23, 23, 26, 55, 78]\n"
          ],
          "name": "stdout"
        }
      ]
    }
  ]
}