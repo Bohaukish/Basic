{
  "nbformat": 4,
  "nbformat_minor": 0,
  "metadata": {
    "colab": {
      "name": "6.Find Low/High Index of a Key in a Sorted Array.ipynb",
      "provenance": [],
      "collapsed_sections": []
    },
    "kernelspec": {
      "name": "python3",
      "display_name": "Python 3"
    }
  },
  "cells": [
    {
      "cell_type": "markdown",
      "metadata": {
        "id": "46gONwjdbWVl",
        "colab_type": "text"
      },
      "source": [
        "Given a **sorted** array of integers, return the low and high index of the given key. You must return -1 if the indexes are not found.\n",
        "\n",
        "The array length can be in the millions with **many duplicates**.\n",
        "\n",
        "1 2 3 3 3 3 4\n",
        "\n",
        "if key = 3, then low_index = 2, high_index = 5"
      ]
    },
    {
      "cell_type": "code",
      "metadata": {
        "id": "CstA3mihbiJB",
        "colab_type": "code",
        "colab": {}
      },
      "source": [
        "# use binary search\n",
        "def find_low_index(arr, key):\n",
        " #TODO: Write - Your - Code\n",
        "  start = 0\n",
        "  end = len(arr) - 1\n",
        "  mid = start + (end - start) // 2\n",
        "\n",
        "  while start <= end:\n",
        "    if arr[mid] >=  key:\n",
        "      end = mid - 1\n",
        "    else:\n",
        "      start = mid + 1\n",
        "\n",
        "    mid = start + (end - start) // 2\n",
        "\n",
        "    if start < len(arr) and arr[start] == key:\n",
        "      return start\n",
        "\n",
        "  return -1\n",
        "\n",
        "def find_high_index(arr, key):\n",
        " #TODO: Write - Your - Code\n",
        "  start = 0\n",
        "  end = len(arr) - 1\n",
        "  mid = start + (end - start) // 2\n",
        "\n",
        "  while start <= end:\n",
        "    if arr[mid] <=  key:\n",
        "      start = mid + 1\n",
        "    else:\n",
        "      end = mid - 1\n",
        "\n",
        "    mid = start + (end - start) // 2\n",
        "\n",
        "    if end < len(arr) and arr[end] == key:\n",
        "      return end\n",
        "\n",
        "  return -1"
      ],
      "execution_count": 1,
      "outputs": []
    },
    {
      "cell_type": "code",
      "metadata": {
        "id": "GnFP5JY_ehyd",
        "colab_type": "code",
        "colab": {
          "base_uri": "https://localhost:8080/",
          "height": 86
        },
        "outputId": "b5fa75a9-3705-4f2b-cee6-207c820fc011"
      },
      "source": [
        "array = [1, 1, 1, 2, 2, 2, 2, 2, 3, 3, 3, 4, 4, 4, 4, 5, 5, 5, 6, 6, 6, 6, 6, 6]\n",
        "key = 5\n",
        "low = find_low_index(array, key)\n",
        "high = find_high_index(array, key)\n",
        "print(\"Low Index of \" + str(key) + \": \" + str(low))\n",
        "print(\"High Index of \" + str(key) + \": \" + str(high))\n",
        "\n",
        "key = -2\n",
        "low = find_low_index(array, key)\n",
        "high = find_high_index(array, key)\n",
        "print(\"Low Index of \" + str(key) + \": \" + str(low))\n",
        "print(\"High Index of \" + str(key) + \": \" + str(high))"
      ],
      "execution_count": 2,
      "outputs": [
        {
          "output_type": "stream",
          "text": [
            "Low Index of 5: 15\n",
            "High Index of 5: 17\n",
            "Low Index of -2: -1\n",
            "High Index of -2: -1\n"
          ],
          "name": "stdout"
        }
      ]
    }
  ]
}