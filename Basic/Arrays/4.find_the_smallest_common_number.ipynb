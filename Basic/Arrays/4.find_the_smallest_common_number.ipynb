{
  "nbformat": 4,
  "nbformat_minor": 0,
  "metadata": {
    "colab": {
      "name": "4.find the smallest common number.ipynb",
      "provenance": [],
      "collapsed_sections": []
    },
    "kernelspec": {
      "name": "python3",
      "display_name": "Python 3"
    }
  },
  "cells": [
    {
      "cell_type": "markdown",
      "metadata": {
        "id": "lYexFo73F46A",
        "colab_type": "text"
      },
      "source": [
        "Given three integer arrays **sorted in ascending order**, return the smallest number that is common in all three arrays.\n",
        "\n",
        "a:\n",
        "0, 1, 2, 3, 4\n",
        "\n",
        "b:\n",
        "2, 3\n",
        "\n",
        "c:\n",
        "0, 3\n",
        "\n",
        "return 3"
      ]
    },
    {
      "cell_type": "markdown",
      "metadata": {
        "id": "3DR5C9fVGgyg",
        "colab_type": "text"
      },
      "source": [
        "We will use three iterators simultaneously to traverse each of the arrays. We can start by traversing the arrays starting from the 0th index, which will have the smallest value of each array.\n",
        "\n",
        "If the values at the array indices pointed to by the three iterators are equal, that’s the solution since that will be the smallest value (as arrays are sorted in ascending order) present in all of the arrays.\n",
        "\n",
        " - Time: O(n)\n",
        " - Memory: O(1)"
      ]
    },
    {
      "cell_type": "code",
      "metadata": {
        "id": "pYHSNLaMGgF0",
        "colab_type": "code",
        "colab": {}
      },
      "source": [
        "def find_least_common_number(a, b, c):\n",
        "  i = 0\n",
        "  j = 0\n",
        "  k = 0\n",
        "\n",
        "  while i < len(a) and j < len(b) and k < len(c):\n",
        "\n",
        "    # 見つけた\n",
        "    if a[i] == b[j] and b[j] == c[k]:\n",
        "      return a[i]\n",
        "\n",
        "    # increment the iterator for the smallest value\n",
        "    if a[i] <= b[j] and a[i] <= c[k]:\n",
        "      i+=1\n",
        "\n",
        "    elif b[j] <= a[i] and b[j] <= c[k]:\n",
        "      j+=1\n",
        "    \n",
        "    elif c[k] <= a[i] and c[k] <= b[j]:\n",
        "      k+=1\n",
        "\n",
        "  return -1"
      ],
      "execution_count": 1,
      "outputs": []
    },
    {
      "cell_type": "code",
      "metadata": {
        "id": "mwAwDl48JOlN",
        "colab_type": "code",
        "colab": {
          "base_uri": "https://localhost:8080/",
          "height": 34
        },
        "outputId": "88ae2d8a-fa45-4a70-943a-cbc8541d117f"
      },
      "source": [
        "v1 = [6, 7, 10, 25, 30, 63, 64]\n",
        "v2 = [1, 4, 5, 6, 7, 8, 50]\n",
        "v3 = [1, 6, 10, 14]\n",
        "\n",
        "find_least_common_number(v1, v2, v3)"
      ],
      "execution_count": 2,
      "outputs": [
        {
          "output_type": "execute_result",
          "data": {
            "text/plain": [
              "6"
            ]
          },
          "metadata": {
            "tags": []
          },
          "execution_count": 2
        }
      ]
    },
    {
      "cell_type": "markdown",
      "metadata": {
        "id": "Ym9ZsPkfJAed",
        "colab_type": "text"
      },
      "source": [
        "Other:"
      ]
    },
    {
      "cell_type": "code",
      "metadata": {
        "id": "fclQqoANI7qo",
        "colab_type": "code",
        "colab": {}
      },
      "source": [
        "def find_least_common_number(a, b, c):\n",
        "   # find out the shortest list\n",
        "   la = len(set(a)) \n",
        "   lb = len(set(b))\n",
        "   lc = len(set(c))\n",
        "   if la<=lb and la<=lc:\n",
        "     s = a\n",
        "     other1, other2 = b, c\n",
        "   elif lb<la and lb<lc: \n",
        "     s = b\n",
        "     other1, other2 = a, c\n",
        "   else: \n",
        "     s = c\n",
        "     other1, other2 = a, b\n",
        "  \n",
        "   for i in range(0, len(s)):\n",
        "     if s[i] in other1 and s[i] in other2:\n",
        "       return s[i]\n",
        "\n",
        "   return -1"
      ],
      "execution_count": 3,
      "outputs": []
    },
    {
      "cell_type": "code",
      "metadata": {
        "id": "MO5T_4nQJDHF",
        "colab_type": "code",
        "colab": {
          "base_uri": "https://localhost:8080/",
          "height": 34
        },
        "outputId": "6518039a-bd7c-465a-a0da-826c35d588ad"
      },
      "source": [
        "find_least_common_number(v1, v2, v3)"
      ],
      "execution_count": 4,
      "outputs": [
        {
          "output_type": "execute_result",
          "data": {
            "text/plain": [
              "6"
            ]
          },
          "metadata": {
            "tags": []
          },
          "execution_count": 4
        }
      ]
    }
  ]
}