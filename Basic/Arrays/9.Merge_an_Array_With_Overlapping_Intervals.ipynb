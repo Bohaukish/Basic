{
  "nbformat": 4,
  "nbformat_minor": 0,
  "metadata": {
    "colab": {
      "name": "9.Merge an Array With Overlapping Intervals.ipynb",
      "provenance": [],
      "collapsed_sections": []
    },
    "kernelspec": {
      "name": "python3",
      "display_name": "Python 3"
    }
  },
  "cells": [
    {
      "cell_type": "markdown",
      "metadata": {
        "id": "k5irlmBL2JVI",
        "colab_type": "text"
      },
      "source": [
        "You are given an array (list) of interval pairs as input where each interval has a start and end timestamp. The input array is sorted by starting timestamps. You are required to merge overlapping intervals and return a new output array.\n",
        "\n",
        "- time: O(n)\n",
        "\n",
        "- space: O(n)\n",
        "\n"
      ]
    },
    {
      "cell_type": "code",
      "metadata": {
        "id": "0Gr7BrYc2LXG",
        "colab_type": "code",
        "colab": {}
      },
      "source": [
        "class Pair:\n",
        "  def __init__(self, first, second):\n",
        "    self.first = first\n",
        "    self.second = second\n",
        "\n",
        "def merge_intervals(v):\n",
        "  # write your code here\n",
        "  result = []\n",
        "  # add the 1st interval into the result\n",
        "  result.append(Pair(v[0].first, v[0].second))\n",
        "\n",
        "  for i in range(1, len(v)):\n",
        "    x1 = v[1].first\n",
        "    y1 = v[1].second\n",
        "    x2 = result[len(result) - 1].first\n",
        "    y2 = result[len(result) - 1].second\n",
        "\n",
        "    # If the input interval is overlapping with the last interval in output list \n",
        "    if x1 >= y2:\n",
        "      # merge these two intervals and update the last interval of output list with merged interval.\n",
        "      result[len(result) - 1].second = max(y1, y2)\n",
        "    else:\n",
        "      # Otherwise, we’ll add an input interval to the output list.\n",
        "      result.append(Pair(x1, y1))\n",
        "\n",
        "  return result"
      ],
      "execution_count": 1,
      "outputs": []
    },
    {
      "cell_type": "code",
      "metadata": {
        "id": "KZxIO2lM8Vf9",
        "colab_type": "code",
        "colab": {
          "base_uri": "https://localhost:8080/",
          "height": 34
        },
        "outputId": "1615bab1-4fa2-45d5-ce86-14862a50f721"
      },
      "source": [
        "v = [Pair(1, 5), Pair(3, 1), Pair(4, 6), \n",
        "     Pair(6, 8), Pair(10, 12), Pair(11, 15)]\n",
        "\n",
        "result = merge_intervals(v)\n",
        "\n",
        "for i in range(len(result)):\n",
        "  print(\"[\" + str(result[i].first) + \", \" + str(result[i].second) + \"]\", end =\" \")"
      ],
      "execution_count": 2,
      "outputs": [
        {
          "output_type": "stream",
          "text": [
            "[1, 5] [3, 1] "
          ],
          "name": "stdout"
        }
      ]
    }
  ]
}