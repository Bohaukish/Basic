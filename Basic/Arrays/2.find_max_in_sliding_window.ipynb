{
  "nbformat": 4,
  "nbformat_minor": 0,
  "metadata": {
    "colab": {
      "name": "2. find max in sliding window.ipynb",
      "provenance": [],
      "collapsed_sections": []
    },
    "kernelspec": {
      "name": "python3",
      "display_name": "Python 3"
    }
  },
  "cells": [
    {
      "cell_type": "markdown",
      "metadata": {
        "id": "c-0utnVBM8uh",
        "colab_type": "text"
      },
      "source": [
        "Given a large array of integers and a window of size w, find the current maximum value in the window as the window slides through the entire array."
      ]
    },
    {
      "cell_type": "code",
      "metadata": {
        "id": "M-G9E-rYOPvC",
        "colab_type": "code",
        "colab": {}
      },
      "source": [
        "# without deque\n",
        "def find_max_sliding_window(arr, window_size):\n",
        "  result = []\n",
        "  #Write your code\n",
        "  if window_size > len(arr) or len(arr) == 0: return result\n",
        "  else:\n",
        "    for i in range(0, len(arr) - window_size + 1):\n",
        "      window = arr[i:i+window_size] \n",
        "      result.append(max(window))\n",
        "  return result "
      ],
      "execution_count": 1,
      "outputs": []
    },
    {
      "cell_type": "code",
      "metadata": {
        "id": "U5vZXTZ1U5N6",
        "colab_type": "code",
        "colab": {
          "base_uri": "https://localhost:8080/",
          "height": 52
        },
        "outputId": "7ec382db-278f-4f42-a43e-ee4e8c39b88a"
      },
      "source": [
        "arr = [1, 2, 3, 4, 3, 2, 1, 2, 5]\n",
        "print(find_max_sliding_window(arr, 4))\n",
        "print(find_max_sliding_window(arr, 3))"
      ],
      "execution_count": 2,
      "outputs": [
        {
          "output_type": "stream",
          "text": [
            "[4, 4, 4, 4, 3, 5]\n",
            "[3, 4, 4, 4, 3, 2, 5]\n"
          ],
          "name": "stdout"
        }
      ]
    },
    {
      "cell_type": "markdown",
      "metadata": {
        "id": "LZHWnNZxURve",
        "colab_type": "text"
      },
      "source": [
        "###Using deque\n",
        "It uses the deque data structure to find the maximum in a window. A deque is a double-ended queue in which push and pop operations work in **O(1) at both ends**. It will act as the window.\n",
        "\n",
        " - Time: O(n)\n",
        " - Memory: O(w), where w is the window size."
      ]
    },
    {
      "cell_type": "code",
      "metadata": {
        "id": "cc_lAtXVWXFH",
        "colab_type": "code",
        "colab": {}
      },
      "source": [
        "import collections\n",
        "\n",
        "def find_max_sliding_window(arr, window_size):\n",
        "  result = []\n",
        "\n",
        "  if len(arr) == 0 or window_size > len(arr):\n",
        "    return result\n",
        "    \n",
        "  window = collections.deque()\n",
        "  \n",
        "  #find out max for first window\n",
        "  for i in range(0, window_size):\n",
        "    while window and arr[i] >= arr[window[-1]]:\n",
        "      window.pop()\n",
        "    window.append(i)\n",
        "\n",
        "  result.append(arr[window[0]])\n",
        "  \n",
        "  for i in range(window_size, len(arr)):\n",
        "    #remove all numbers that are smaller than current number\n",
        "    #from the tail of list\n",
        "    while window and arr[i] >= arr[window[-1]]:\n",
        "      window.pop()\n",
        "\n",
        "    #remove first number if it doesn't fall in the window anymore\n",
        "    if window and (window[0] <= i - window_size) :\n",
        "      window.popleft()\n",
        "\n",
        "    window.append(i)\n",
        "    result.append(arr[window[0]])\n",
        "  \n",
        "  return result"
      ],
      "execution_count": 3,
      "outputs": []
    },
    {
      "cell_type": "code",
      "metadata": {
        "id": "OT1WKlHsWY7_",
        "colab_type": "code",
        "colab": {
          "base_uri": "https://localhost:8080/",
          "height": 52
        },
        "outputId": "010bd782-f837-4660-e9fb-c0913b2468ad"
      },
      "source": [
        "array1 = [1, 2, 3, 4, 5, 6, 7, 8, 9, 10]  \n",
        "print (\"Max = \" + str(find_max_sliding_window(array1, 3)))\n",
        "\n",
        "array2 = [10, 6, 9, -3, 23, -1, 34, 56, 67, -1, -4, -8, -2, 9, 10, 34, 67]  \n",
        "print (\"Max = \" + str(find_max_sliding_window(array2, 3)))"
      ],
      "execution_count": 4,
      "outputs": [
        {
          "output_type": "stream",
          "text": [
            "Max = [3, 4, 5, 6, 7, 8, 9, 10]\n",
            "Max = [10, 9, 23, 23, 34, 56, 67, 67, 67, -1, -2, 9, 10, 34, 67]\n"
          ],
          "name": "stdout"
        }
      ]
    }
  ]
}