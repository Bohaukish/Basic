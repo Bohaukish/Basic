{
  "nbformat": 4,
  "nbformat_minor": 0,
  "metadata": {
    "colab": {
      "name": "5.rotate an rrray by n elements.ipynb",
      "provenance": [],
      "collapsed_sections": []
    },
    "kernelspec": {
      "name": "python3",
      "display_name": "Python 3"
    }
  },
  "cells": [
    {
      "cell_type": "markdown",
      "metadata": {
        "id": "14X1aVY9Mlqj",
        "colab_type": "text"
      },
      "source": [
        "Given an array of integers, rotate the array by N elements where N is an integer:\n",
        "\n",
        "- For positive values of N, perform a right rotation.\n",
        "- For negative values of N, perform a left rotation.\n",
        "\n",
        "Make sure you make changes to the original array."
      ]
    },
    {
      "cell_type": "markdown",
      "metadata": {
        "id": "YDJLYtLTUBvx",
        "colab_type": "text"
      },
      "source": [
        "1 ふつ：リストの基本\n"
      ]
    },
    {
      "cell_type": "code",
      "metadata": {
        "id": "d2kk2zeQM1kx",
        "colab_type": "code",
        "colab": {}
      },
      "source": [
        "def rotate_array(arr, n):\n",
        "  #TODO: Write - Your - Code \n",
        "  n = n % len(arr)\n",
        "\n",
        "  if n == 0:\n",
        "    return arr\n",
        "  elif n > 0: \n",
        "    for i in range(0, n):\n",
        "      # insert the last element into the first position \n",
        "      # do the operation before removing it\n",
        "      arr.insert(0, arr[len(arr)-1])\n",
        "      # then remove it\n",
        "      arr.pop()\n",
        "    return arr\n",
        "  else:\n",
        "    for i in range(0, -n):\n",
        "      # insert the first element into the last position\n",
        "      arr.insert(len(arr), arr[0]) # the length of the arr changes\n",
        "      # remove it\n",
        "      arr.pop(0)\n",
        "    return arr\n",
        "  return -1"
      ],
      "execution_count": 1,
      "outputs": []
    },
    {
      "cell_type": "code",
      "metadata": {
        "id": "zjrNx51AfciM",
        "colab_type": "code",
        "colab": {
          "base_uri": "https://localhost:8080/",
          "height": 34
        },
        "outputId": "e5d8f605-8dfe-4334-8f46-3f374a861d75"
      },
      "source": [
        "rotate_array([1, 2, 3, 4, 5], 2)"
      ],
      "execution_count": 2,
      "outputs": [
        {
          "output_type": "execute_result",
          "data": {
            "text/plain": [
              "[4, 5, 1, 2, 3]"
            ]
          },
          "metadata": {
            "tags": []
          },
          "execution_count": 2
        }
      ]
    },
    {
      "cell_type": "code",
      "metadata": {
        "id": "9PZ869XsO3It",
        "colab_type": "code",
        "colab": {
          "base_uri": "https://localhost:8080/",
          "height": 34
        },
        "outputId": "ed03ab57-275b-4fdc-967b-f09d833c6059"
      },
      "source": [
        "rotate_array([1, 2, 3, 4, 5], -3)"
      ],
      "execution_count": 3,
      "outputs": [
        {
          "output_type": "execute_result",
          "data": {
            "text/plain": [
              "[4, 5, 1, 2, 3]"
            ]
          },
          "metadata": {
            "tags": []
          },
          "execution_count": 3
        }
      ]
    },
    {
      "cell_type": "markdown",
      "metadata": {
        "id": "y0bquPh5UZdZ",
        "colab_type": "text"
      },
      "source": [
        "2 Reverse \n",
        "\n",
        "Reverse the elements of the original array and convert negative rotations to positive rotations.（妙啊\n",
        "\n",
        "- time: O(n)\n",
        "- memory: O(1)"
      ]
    },
    {
      "cell_type": "code",
      "metadata": {
        "id": "9kWjKAD7TkHQ",
        "colab_type": "code",
        "colab": {}
      },
      "source": [
        "def reverse_array(arr, start, end):\n",
        "  while start < end:\n",
        "    temp = arr[start]\n",
        "    arr[start] = arr[end]\n",
        "    arr[end] = temp\n",
        "    start+=1\n",
        "    end-=1\n",
        "\n",
        "def rotate_array(arr, n):\n",
        "  length = len(arr)\n",
        "\n",
        "  # Let's normalize rotations\n",
        "  # if n > array size or n is negative.\n",
        "  n = n % length\n",
        "  if n < 0:\n",
        "    # calculate the positive rotations needed.\n",
        "    n = n + length\n",
        "  # Let's partition the array based on rotations 'n'.\n",
        "  # For example: 1, 2, 3, 4, 5 where n = 2.\n",
        "  # -> 5, 4, 3, 2, 1\n",
        "  # -> 4, 5, 3, 2, 1\n",
        "  # -> 4, 5, 1, 2, 3\n",
        "\n",
        "  reverse_array(arr, 0, length - 1)\n",
        "  reverse_array(arr, 0, n - 1)\n",
        "  reverse_array(arr, n, length - 1)"
      ],
      "execution_count": 4,
      "outputs": []
    },
    {
      "cell_type": "code",
      "metadata": {
        "id": "fLhdog5yh-vr",
        "colab_type": "code",
        "colab": {
          "base_uri": "https://localhost:8080/",
          "height": 86
        },
        "outputId": "f2b4f7f7-ac22-4da1-b94b-a7ec2807c885"
      },
      "source": [
        "arr = [1, 10, 20, 0, 59, 86, 32, 11, 9, 40]\n",
        "print(\"Array Before Rotation\")\n",
        "print(arr)\n",
        "\n",
        "rotate_array(arr, 2)\n",
        "print(\"Array After Rotation\")\n",
        "print(arr)"
      ],
      "execution_count": 5,
      "outputs": [
        {
          "output_type": "stream",
          "text": [
            "Array Before Rotation\n",
            "[1, 10, 20, 0, 59, 86, 32, 11, 9, 40]\n",
            "Array After Rotation\n",
            "[9, 40, 1, 10, 20, 0, 59, 86, 32, 11]\n"
          ],
          "name": "stdout"
        }
      ]
    }
  ]
}