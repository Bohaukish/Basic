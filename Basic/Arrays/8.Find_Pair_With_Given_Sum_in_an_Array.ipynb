{
  "nbformat": 4,
  "nbformat_minor": 0,
  "metadata": {
    "colab": {
      "name": "8.Find Pair With Given Sum in an Array.ipynb",
      "provenance": [],
      "collapsed_sections": []
    },
    "kernelspec": {
      "name": "python3",
      "display_name": "Python 3"
    }
  },
  "cells": [
    {
      "cell_type": "markdown",
      "metadata": {
        "id": "ySqQtg0PWjYt",
        "colab_type": "text"
      },
      "source": [
        "Given an array of integers and a value, determine if there are any two integers in the array whose sum is equal to the given value. Return true if the sum exists and return false if it does not."
      ]
    },
    {
      "cell_type": "markdown",
      "metadata": {
        "id": "yFaCdRl9XkCc",
        "colab_type": "text"
      },
      "source": [
        "1 ふつ：product扁平化"
      ]
    },
    {
      "cell_type": "code",
      "metadata": {
        "id": "XulYSyicXt0W",
        "colab_type": "code",
        "colab": {}
      },
      "source": [
        "def find_sum_of_two(A, val):\n",
        " #TODO: Write - Your - Code\n",
        " from itertools import product\n",
        " B = A\n",
        " for i,j in product(v, v):\n",
        "   if i != j:\n",
        "     if i + j == val:\n",
        "       return True\n",
        "\n",
        " return False"
      ],
      "execution_count": 1,
      "outputs": []
    },
    {
      "cell_type": "code",
      "metadata": {
        "id": "cSa3sBe1UaKq",
        "colab_type": "code",
        "colab": {
          "base_uri": "https://localhost:8080/",
          "height": 104
        },
        "outputId": "f57d33e7-5611-448c-f6cc-f1007c9a9082"
      },
      "source": [
        "v = [1, 3, 4, 5, 7, 14, 15]\n",
        "test = [3, 20, 1, 2, 7]\n",
        "\n",
        "for i in range(len(test)):\n",
        "  output = find_sum_of_two(v, test[i])\n",
        "  print(\"find_sum_of_two(v, \" + str(test[i]) + \") = \" + str(output))"
      ],
      "execution_count": 2,
      "outputs": [
        {
          "output_type": "stream",
          "text": [
            "find_sum_of_two(v, 3) = False\n",
            "find_sum_of_two(v, 20) = True\n",
            "find_sum_of_two(v, 1) = False\n",
            "find_sum_of_two(v, 2) = False\n",
            "find_sum_of_two(v, 7) = True\n"
          ],
          "name": "stdout"
        }
      ]
    },
    {
      "cell_type": "markdown",
      "metadata": {
        "id": "UDDOqIyoV5dY",
        "colab_type": "text"
      },
      "source": [
        "2 Use hashing + comparison between elements\n",
        "\n",
        "During scan, for every element e in the array, we check if val - e is present in the hash set i.e. val - e is already visited. \n",
        "\n",
        "- time: O(n)\n",
        "- memory: O(n)\n"
      ]
    },
    {
      "cell_type": "code",
      "metadata": {
        "id": "x_PmtF99an0H",
        "colab_type": "code",
        "colab": {}
      },
      "source": [
        "def find_sum_of_two(A, val):\n",
        "  found_values = set()\n",
        "  for a in A:\n",
        "    if val - a in found_values:\n",
        "      return True\n",
        "\n",
        "    found_values.add(a)\n",
        "    \n",
        "  return False"
      ],
      "execution_count": 3,
      "outputs": []
    },
    {
      "cell_type": "code",
      "metadata": {
        "id": "CG5fNK_wesdS",
        "colab_type": "code",
        "colab": {
          "base_uri": "https://localhost:8080/",
          "height": 104
        },
        "outputId": "ae817a16-ebd7-4a2f-b519-1bf3551aa66d"
      },
      "source": [
        "for i in range(len(test)):\n",
        "  output = find_sum_of_two(v, test[i])\n",
        "  print(\"find_sum_of_two(v, \" + str(test[i]) + \") = \" + str(output))"
      ],
      "execution_count": 4,
      "outputs": [
        {
          "output_type": "stream",
          "text": [
            "find_sum_of_two(v, 3) = False\n",
            "find_sum_of_two(v, 20) = True\n",
            "find_sum_of_two(v, 1) = False\n",
            "find_sum_of_two(v, 2) = False\n",
            "find_sum_of_two(v, 7) = True\n"
          ],
          "name": "stdout"
        }
      ]
    },
    {
      "cell_type": "markdown",
      "metadata": {
        "id": "Y-ILkfvQaoOh",
        "colab_type": "text"
      },
      "source": [
        "3 Sort it\n",
        "\n",
        "从小到大排，俩指针，一头一尾，头+尾的元素，大于val就把尾部往左移动一个，小于就把头部的往右移一个。\n",
        "\n",
        "- time: O(n)\n",
        "- memory: O(1)"
      ]
    },
    {
      "cell_type": "code",
      "metadata": {
        "id": "_koJ0YznarhC",
        "colab_type": "code",
        "colab": {}
      },
      "source": [
        "def find_sum_of_two(A, val):\n",
        "  A.sort()\n",
        "  i = 0\n",
        "  j = len(A) - 1\n",
        "  \n",
        "  while i < j:\n",
        "    s = A[i] + A[j]\n",
        "    if s == val:\n",
        "      return True\n",
        "\n",
        "    if s < val:\n",
        "      i += 1\n",
        "    else:\n",
        "      j -= 1\n",
        "\n",
        "  return False"
      ],
      "execution_count": 5,
      "outputs": []
    },
    {
      "cell_type": "code",
      "metadata": {
        "id": "vQa5YaMNn6Dg",
        "colab_type": "code",
        "colab": {
          "base_uri": "https://localhost:8080/",
          "height": 104
        },
        "outputId": "d714f303-8f0f-4138-cfa7-43a31c06e6a1"
      },
      "source": [
        "v = [14, 15, 4, 5, 7, 1, 3]\n",
        "test = [3, 20, 1, 2, 7]\n",
        "\n",
        "for i in range(len(test)):\n",
        "  output = find_sum_of_two(v, test[i])\n",
        "  print(\"find_sum_of_two(v, \" + str(test[i]) + \") = \" + str(output))"
      ],
      "execution_count": 6,
      "outputs": [
        {
          "output_type": "stream",
          "text": [
            "find_sum_of_two(v, 3) = False\n",
            "find_sum_of_two(v, 20) = True\n",
            "find_sum_of_two(v, 1) = False\n",
            "find_sum_of_two(v, 2) = False\n",
            "find_sum_of_two(v, 7) = True\n"
          ],
          "name": "stdout"
        }
      ]
    }
  ]
}