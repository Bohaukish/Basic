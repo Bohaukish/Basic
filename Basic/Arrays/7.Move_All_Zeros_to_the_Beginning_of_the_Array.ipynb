{
  "nbformat": 4,
  "nbformat_minor": 0,
  "metadata": {
    "colab": {
      "name": "7.Move All Zeros to the Beginning of the Array.ipynb",
      "provenance": [],
      "collapsed_sections": []
    },
    "kernelspec": {
      "name": "python3",
      "display_name": "Python 3"
    }
  },
  "cells": [
    {
      "cell_type": "markdown",
      "metadata": {
        "id": "DdZ1pvz-1hpn",
        "colab_type": "text"
      },
      "source": [
        "Given an integer array, move all elements that are 0 to the left while maintaining the order of other elements in the array. The array has to be modified **in-place**.\n",
        "\n",
        "9 2 1 0 4 0 7 6 0\n",
        "\n",
        "0 0 0 9 2 1 4 7 6"
      ]
    },
    {
      "cell_type": "markdown",
      "metadata": {
        "id": "RU2mY6jZ13O1",
        "colab_type": "text"
      },
      "source": [
        "Use counting.\n",
        "\n",
        "Use the concept of **reader/writer indexes**.\n",
        "\n",
        " - time: O(n)\n",
        " - memory: O(1)"
      ]
    },
    {
      "cell_type": "markdown",
      "metadata": {
        "id": "G35niFqJLtCF",
        "colab_type": "text"
      },
      "source": [
        "\n",
        "只要读到了不是0的值，就会**挨个**写进目前write_index所在的位置里。因此，read_index是每次都在往前移动的，但是write_index必须得当read读到了不是0的数的时候才能移动到下一个位置，并且把读到的不是0的那个数给写进去。\n",
        "\n",
        "之后如果read读完了但是read还可能没操作完，read已经把不是0的值挨个写完了，接下来只需要往前移动并且无脑填0就可以。"
      ]
    },
    {
      "cell_type": "code",
      "metadata": {
        "id": "oI8MIa2P161w",
        "colab_type": "code",
        "colab": {}
      },
      "source": [
        "def move_zeros_to_left(A):\n",
        "  #TODO: Write - Your - Code\n",
        "  # 从尾开始读\n",
        "  write_index = len(A) - 1\n",
        "  read_index = len(A) - 1\n",
        "\n",
        "  if len(A) < 1:\n",
        "    return\n",
        "  \n",
        "  while(read_index >= 0):\n",
        "    if A[read_index] != 0:\n",
        "      A[write_index] = A[read_index]\n",
        "      write_index -= 1\n",
        "    read_index -= 1\n",
        "\n",
        "  while(write_index >= 0):\n",
        "    A[write_index] = 0\n",
        "    write_index -= 1"
      ],
      "execution_count": 1,
      "outputs": []
    },
    {
      "cell_type": "code",
      "metadata": {
        "id": "d3ndGu1GNfdB",
        "colab_type": "code",
        "colab": {
          "base_uri": "https://localhost:8080/",
          "height": 52
        },
        "outputId": "5148e2fd-9591-4969-8264-aa3e8239cb40"
      },
      "source": [
        "v = [1, 10, 20, 0, 59, 63, 0, 88, 0]\n",
        "print(\"Original Array:\", v)\n",
        "\n",
        "move_zeros_to_left(v)\n",
        "\n",
        "print(\"After Moving Zeroes to Left: \", v)"
      ],
      "execution_count": 2,
      "outputs": [
        {
          "output_type": "stream",
          "text": [
            "Original Array: [1, 10, 20, 0, 59, 63, 0, 88, 0]\n",
            "After Moving Zeroes to Left:  [0, 0, 0, 1, 10, 20, 59, 63, 88]\n"
          ],
          "name": "stdout"
        }
      ]
    }
  ]
}